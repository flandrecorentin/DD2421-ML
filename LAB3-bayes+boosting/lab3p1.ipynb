{
 "cells": [
  {
   "cell_type": "markdown",
   "metadata": {},
   "source": [
    "# Lab 3: Bayes Classifier and Boosting"
   ]
  },
  {
   "cell_type": "markdown",
   "metadata": {},
   "source": [
    "## Jupyter notebooks\n",
    "\n",
    "In this lab, you can use Jupyter <https://jupyter.org/> to get a nice layout of your code and plots in one document. However, you may also use Python as usual, without Jupyter.\n",
    "\n",
    "If you have Python and pip, you can install Jupyter with `sudo pip install jupyter`. Otherwise you can follow the instruction on <http://jupyter.readthedocs.org/en/latest/install.html>.\n",
    "\n",
    "And that is everything you need! Now use a terminal to go into the folder with the provided lab files. Then run `jupyter notebook` to start a session in that folder. Click `lab3.ipynb` in the browser window that appeared to start this very notebook. You should click on the cells in order and either press `ctrl+enter` or `run cell` in the toolbar above to evaluate all the expressions.\n",
    "\n",
    "Be sure to put `%matplotlib inline` at the top of every code cell where you call plotting functions to get the resulting plots inside the document."
   ]
  },
  {
   "cell_type": "markdown",
   "metadata": {},
   "source": [
    "## Import the libraries\n",
    "\n",
    "In Jupyter, select the cell below and press `ctrl + enter` to import the needed libraries.\n",
    "Check out `labfuns.py` if you are interested in the details."
   ]
  },
  {
   "cell_type": "code",
   "execution_count": null,
   "metadata": {},
   "outputs": [],
   "source": [
    "import numpy as np\n",
    "from scipy import misc\n",
    "from imp import reload\n",
    "from labfuns import * # Uncomment if needed\n",
    "import random\n",
    "\n",
    "random.seed(100)"
   ]
  },
  {
   "cell_type": "markdown",
   "metadata": {},
   "source": [
    "## Bayes classifier functions to implement\n",
    "\n",
    "The lab descriptions state what each function should do."
   ]
  },
  {
   "cell_type": "code",
   "execution_count": null,
   "metadata": {},
   "outputs": [],
   "source": [
    "# NOTE: you do not need to handle the W argument for this part!\n",
    "# in: labels - N vector of class labels\n",
    "# out: prior - C x 1 vector of class priors\n",
    "def computePrior(labels, W=None):\n",
    "    Npts = labels.shape[0]\n",
    "    if W is None:\n",
    "        W = np.ones((Npts,1))/Npts\n",
    "    else:\n",
    "        assert(W.shape[0] == Npts)\n",
    "    classes = np.unique(labels)\n",
    "    Nclasses = np.size(classes)\n",
    "\n",
    "    prior = np.zeros((Nclasses,1))\n",
    "\n",
    "    # TODO: compute the values of prior for each class!\n",
    "    # ==========================\n",
    "    # computing prior\n",
    "    for i_label in range(Npts):\n",
    "        index_class = np.where(classes == labels[i_label])[0][0]\n",
    "        prior[index_class] +=1.0\n",
    "    prior = prior/Npts\n",
    "    # ==========================\n",
    "    return prior\n",
    "\n",
    "# NOTE: you do not need to handle the W argument for this part!\n",
    "# in:      X - N x d matrix of N data points\n",
    "#     labels - N vector of class labels\n",
    "# out:    mu - C x d matrix of class means (mu[i] - class i mean)\n",
    "#      sigma - C x d x d matrix of class covariances (sigma[i] - class i sigma)\n",
    "def mlParams(X, labels, W=None):\n",
    "    assert(X.shape[0]==labels.shape[0])\n",
    "    Npts,Ndims = np.shape(X)\n",
    "    classes = np.unique(labels)\n",
    "    Nclasses = np.size(classes)\n",
    "\n",
    "    if W is None:\n",
    "        W = np.ones((Npts,1))/float(Npts)\n",
    "\n",
    "    mu = np.zeros((Nclasses,Ndims))\n",
    "    sigma = np.zeros((Nclasses,Ndims,Ndims))\n",
    "\n",
    "    # TODO: fill in the code to compute mu and sigma!\n",
    "    # ==========================\n",
    "    # Computing mu\n",
    "    Nkclasses = np.zeros(Nclasses)\n",
    "    for i_pts in range(Npts):\n",
    "        index_class = np.where(classes == labels[i_pts])[0][0]\n",
    "        Nkclasses[index_class] += 1.0\n",
    "        for i_dim in range(Ndims):\n",
    "            mu[index_class][i_dim] += X[i_pts][i_dim]\n",
    "    for i_class in range(Nclasses):\n",
    "        for i_dim in range(Ndims):\n",
    "            mu[i_class][i_dim] = mu[i_class][i_dim]/Nkclasses[i_class]\n",
    "    # Computing sigma\n",
    "    for i_pts in range(Npts):\n",
    "        index_class = np.where(classes == labels[i_pts])[0][0]\n",
    "        for i_dim in range(Ndims):\n",
    "            sigma[index_class][i_dim][i_dim] += (X[i_pts][i_dim]-mu[index_class][i_dim])**2\n",
    "    for i_class in range(Nclasses):\n",
    "        for i_dim in range(Ndims):\n",
    "            sigma[i_class][i_dim][i_dim] = sigma[i_class][i_dim][i_dim]/Nkclasses[i_class]\n",
    "    # ==========================\n",
    "    return mu, sigma\n",
    "\n",
    "# in:      X - N x d matrix of M data points\n",
    "#      prior - C x 1 matrix of class priors\n",
    "#         mu - C x d matrix of class means (mu[i] - class i mean)\n",
    "#      sigma - C x d x d matrix of class covariances (sigma[i] - class i sigma)\n",
    "# out:     h - N vector of class predictions for test points\n",
    "def classifyBayes(X, prior, mu, sigma):\n",
    "\n",
    "    Npts = X.shape[0]\n",
    "    Nclasses,Ndims = np.shape(mu)\n",
    "    logProb = np.zeros((Nclasses, Npts))\n",
    "\n",
    "    # TODO: fill in the code to compute the log posterior logProb!\n",
    "    # ==========================\n",
    "    for i_class in range(Nclasses):\n",
    "        for i_pts in range(Npts):\n",
    "            discr = 1.0\n",
    "            for i_dim in range(Ndims):\n",
    "                discr = discr* sigma[i_class][i_dim][i_dim]\n",
    "            logProb[i_class][i_pts] = -0.5*np.log(abs(discr))\n",
    "            product = 0.0\n",
    "            for i_dim in range(Ndims):\n",
    "                product += ((1.0/sigma[i_class][i_dim][i_dim]) * ((X[i_pts][i_dim]-mu[i_class][i_dim])**2))\n",
    "            logProb[i_class][i_pts] += -0.5 * product\n",
    "            logProb[i_class][i_pts] += np.log(prior[i_class])\n",
    "    # ==========================\n",
    "    \n",
    "    # one possible way of finding max a-posteriori once\n",
    "    # you have computed the log posterior\n",
    "    h = np.argmax(logProb,axis=0)\n",
    "    return h"
   ]
  },
  {
   "cell_type": "markdown",
   "metadata": {},
   "source": [
    "The implemented functions can now be summarized into the `BayesClassifier` class, which we will use later to test the classifier, no need to add anything else here:"
   ]
  },
  {
   "cell_type": "code",
   "execution_count": null,
   "metadata": {},
   "outputs": [],
   "source": [
    "# NOTE: no need to touch this\n",
    "class BayesClassifier(object):\n",
    "    def __init__(self):\n",
    "        self.trained = False\n",
    "\n",
    "    def trainClassifier(self, X, labels, W=None):\n",
    "        # W = np.ones(np.shape(labels))/np.shape(labels)[0] # Test with a uniform weight vector with Wi = 1/N \n",
    "        rtn = BayesClassifier()\n",
    "        rtn.prior = computePrior(labels, W)\n",
    "        rtn.mu, rtn.sigma = mlParams(X, labels, W)\n",
    "        rtn.trained = True\n",
    "        return rtn\n",
    "\n",
    "    def classify(self, X):\n",
    "        return classifyBayes(X, self.prior, self.mu, self.sigma)"
   ]
  },
  {
   "cell_type": "markdown",
   "metadata": {},
   "source": [
    "## Test the Maximum Likelihood estimates\n",
    "\n",
    "Call `genBlobs` and `plotGaussian` to verify your estimates."
   ]
  },
  {
   "cell_type": "code",
   "execution_count": null,
   "metadata": {},
   "outputs": [
    {
     "data": {
      "image/png": "[encoded data removed]",
      "text/plain": [
       "<Figure size 432x288 with 1 Axes>"
      ]
     },
     "metadata": {},
     "output_type": "display_data"
    }
   ],
   "source": [
    "%matplotlib inline\n",
    "\n",
    "X, labels = genBlobs(centers=5)\n",
    "mu, sigma = mlParams(X,labels)\n",
    "plotGaussian(X,labels,mu,sigma)"
   ]
  },
  {
   "cell_type": "markdown",
   "metadata": {},
   "source": [
    "Call the `testClassifier` and `plotBoundary` functions for this part."
   ]
  },
  {
   "cell_type": "code",
   "execution_count": null,
   "metadata": {},
   "outputs": [
    {
     "name": "stdout",
     "output_type": "stream",
     "text": [
      "Trial: 0 Accuracy 84.4\n",
      "Trial: 10 Accuracy 95.6\n",
      "Trial: 20 Accuracy 93.3\n",
      "Trial: 30 Accuracy 86.7\n",
      "Trial: 40 Accuracy 88.9\n",
      "Trial: 50 Accuracy 91.1\n",
      "Trial: 60 Accuracy 86.7\n",
      "Trial: 70 Accuracy 91.1\n",
      "Trial: 80 Accuracy 86.7\n",
      "Trial: 90 Accuracy 91.1\n",
      "Final mean classification accuracy  89 with standard deviation 4.16\n"
     ]
    }
   ],
   "source": [
    "testClassifier(BayesClassifier(), dataset='iris', split=0.7)"
   ]
  },
  {
   "cell_type": "code",
   "execution_count": null,
   "metadata": {},
   "outputs": [
    {
     "name": "stderr",
     "output_type": "stream",
     "text": [
      "/mnt/c/Users/fland/Desktop/5IF-KTH/DD2421-MACHINE_LEARNING/LAB3-bayes+boosting/labfuns.py:257: UserWarning: *c* argument looks like a single numeric RGB or RGBA sequence, which should be avoided as value-mapping will have precedence in case its length matches with *x* & *y*.  Please use the *color* keyword-argument or provide a 2D array with a single row if you intend to specify the same RGB or RGBA value for all points.\n",
      "  plt.scatter(xTr[trClIdx,0],xTr[trClIdx,1],marker='o',c=color,s=40,alpha=0.5, label=\"Class \"+str(c)+\" Train\")\n",
      "/mnt/c/Users/fland/Desktop/5IF-KTH/DD2421-MACHINE_LEARNING/LAB3-bayes+boosting/labfuns.py:258: UserWarning: *c* argument looks like a single numeric RGB or RGBA sequence, which should be avoided as value-mapping will have precedence in case its length matches with *x* & *y*.  Please use the *color* keyword-argument or provide a 2D array with a single row if you intend to specify the same RGB or RGBA value for all points.\n",
      "  plt.scatter(xTe[teClIdx,0],xTe[teClIdx,1],marker='*',c=color,s=50,alpha=0.8, label=\"Class \"+str(c)+\" Test\")\n"
     ]
    },
    {
     "data": {
      "image/png": "[encoded data removed]",
      "text/plain": [
       "<Figure size 432x288 with 1 Axes>"
      ]
     },
     "metadata": {},
     "output_type": "display_data"
    }
   ],
   "source": [
    "%matplotlib inline\n",
    "plotBoundary(BayesClassifier(), dataset='iris',split=0.7)"
   ]
  },
  {
   "cell_type": "code",
   "execution_count": null,
   "metadata": {},
   "outputs": [
    {
     "name": "stdout",
     "output_type": "stream",
     "text": [
      "Trial: 0 Accuracy 61\n",
      "Trial: 10 Accuracy 66.2\n",
      "Trial: 20 Accuracy 74\n",
      "Trial: 30 Accuracy 66.9\n",
      "Trial: 40 Accuracy 59.7\n",
      "Trial: 50 Accuracy 64.3\n",
      "Trial: 60 Accuracy 66.9\n",
      "Trial: 70 Accuracy 63.6\n",
      "Trial: 80 Accuracy 62.3\n",
      "Trial: 90 Accuracy 70.8\n",
      "Final mean classification accuracy  64.7 with standard deviation 4.03\n"
     ]
    }
   ],
   "source": [
    "testClassifier(BayesClassifier(), dataset='vowel', split=0.7)"
   ]
  },
  {
   "cell_type": "markdown",
   "metadata": {},
   "source": [
    "## Boosting functions to implement\n",
    "\n",
    "The lab descriptions state what each function should do."
   ]
  },
  {
   "cell_type": "code",
   "execution_count": null,
   "metadata": {},
   "outputs": [],
   "source": [
    "# in: base_classifier - a classifier of the type that we will boost, e.g. BayesClassifier\n",
    "#                   X - N x d matrix of N data points\n",
    "#              labels - N vector of class labels\n",
    "#                   T - number of boosting iterations\n",
    "# out:    classifiers - (maximum) length T Python list of trained classifiers\n",
    "#              alphas - (maximum) length T Python list of vote weights\n",
    "def trainBoost(base_classifier, X, labels, T=10):\n",
    "    # these will come in handy later on\n",
    "    Npts,Ndims = np.shape(X)\n",
    "\n",
    "    classifiers = [] # append new classifiers to this list\n",
    "    alphas = [] # append the vote weight of the classifiers to this list\n",
    "\n",
    "    # The weights for the first iteration\n",
    "    wCur = np.ones((Npts,1))/float(Npts)\n",
    "\n",
    "    for i_iter in range(0, T):\n",
    "        # a new classifier can be trained like this, given the current weights\n",
    "        classifiers.append(base_classifier.trainClassifier(X, labels, wCur))\n",
    "\n",
    "        # do classification for each point\n",
    "        vote = classifiers[-1].classify(X)\n",
    "\n",
    "        # TODO: Fill in the rest, construct the alphas etc.\n",
    "        # ==========================\n",
    "        \n",
    "        # alphas.append(alpha) # you will need to append the new alpha\n",
    "        # ==========================\n",
    "        \n",
    "    return classifiers, alphas\n",
    "\n",
    "# in:       X - N x d matrix of N data points\n",
    "# classifiers - (maximum) length T Python list of trained classifiers as above\n",
    "#      alphas - (maximum) length T Python list of vote weights\n",
    "#    Nclasses - the number of different classes\n",
    "# out:  yPred - N vector of class predictions for test points\n",
    "def classifyBoost(X, classifiers, alphas, Nclasses):\n",
    "    Npts = X.shape[0]\n",
    "    Ncomps = len(classifiers)\n",
    "\n",
    "    # if we only have one classifier, we may just classify directly\n",
    "    if Ncomps == 1:\n",
    "        return classifiers[0].classify(X)\n",
    "    else:\n",
    "        votes = np.zeros((Npts,Nclasses))\n",
    "\n",
    "        # TODO: implement classificiation when we have trained several classifiers!\n",
    "        # here we can do it by filling in the votes vector with weighted votes\n",
    "        # ==========================\n",
    "        \n",
    "        # ==========================\n",
    "\n",
    "        # one way to compute yPred after accumulating the votes\n",
    "        return np.argmax(votes,axis=1)"
   ]
  },
  {
   "cell_type": "markdown",
   "metadata": {},
   "source": [
    "The implemented functions can now be summarized another classifer, the `BoostClassifier` class. This class enables boosting different types of classifiers by initializing it with the `base_classifier` argument. No need to add anything here."
   ]
  },
  {
   "cell_type": "code",
   "execution_count": null,
   "metadata": {},
   "outputs": [],
   "source": [
    "# NOTE: no need to touch this\n",
    "class BoostClassifier(object):\n",
    "    def __init__(self, base_classifier, T=10):\n",
    "        self.base_classifier = base_classifier\n",
    "        self.T = T\n",
    "        self.trained = False\n",
    "\n",
    "    def trainClassifier(self, X, labels):\n",
    "        rtn = BoostClassifier(self.base_classifier, self.T)\n",
    "        rtn.nbr_classes = np.size(np.unique(labels))\n",
    "        rtn.classifiers, rtn.alphas = trainBoost(self.base_classifier, X, labels, self.T)\n",
    "        rtn.trained = True\n",
    "        return rtn\n",
    "\n",
    "    def classify(self, X):\n",
    "        return classifyBoost(X, self.classifiers, self.alphas, self.nbr_classes)"
   ]
  },
  {
   "cell_type": "markdown",
   "metadata": {},
   "source": [
    "## Run some experiments\n",
    "\n",
    "Call the `testClassifier` and `plotBoundary` functions for this part."
   ]
  },
  {
   "cell_type": "code",
   "execution_count": null,
   "metadata": {},
   "outputs": [
    {
     "name": "stdout",
     "output_type": "stream",
     "text": [
      "Trial: 0 Accuracy 33.3\n",
      "Trial: 10 Accuracy 33.3\n",
      "Trial: 20 Accuracy 33.3\n",
      "Trial: 30 Accuracy 33.3\n",
      "Trial: 40 Accuracy 33.3\n",
      "Trial: 50 Accuracy 33.3\n",
      "Trial: 60 Accuracy 33.3\n",
      "Trial: 70 Accuracy 33.3\n",
      "Trial: 80 Accuracy 33.3\n",
      "Trial: 90 Accuracy 33.3\n",
      "Final mean classification accuracy  33.3 with standard deviation 0\n"
     ]
    }
   ],
   "source": [
    "testClassifier(BoostClassifier(BayesClassifier(), T=10), dataset='iris',split=0.7)"
   ]
  },
  {
   "cell_type": "code",
   "execution_count": null,
   "metadata": {},
   "outputs": [
    {
     "name": "stdout",
     "output_type": "stream",
     "text": [
      "Trial: 0 Accuracy 9.09\n",
      "Trial: 10 Accuracy 9.09\n",
      "Trial: 20 Accuracy 9.09\n",
      "Trial: 30 Accuracy 9.09\n",
      "Trial: 40 Accuracy 9.09\n",
      "Trial: 50 Accuracy 9.09\n"
     ]
    },
    {
     "ename": "KeyboardInterrupt",
     "evalue": "",
     "output_type": "error",
     "traceback": [
      "\u001b[0;31m---------------------------------------------------------------------------\u001b[0m\n",
      "\u001b[0;31mKeyboardInterrupt\u001b[0m                         Traceback (most recent call last)\n",
      "\u001b[1;32m/mnt/c/Users/fland/Desktop/5IF-KTH/DD2421-MACHINE_LEARNING/LAB3-bayes+boosting/lab3.ipynb Cell 20\u001b[0m line \u001b[0;36m<cell line: 1>\u001b[0;34m()\u001b[0m\n",
      "\u001b[0;32m----> <a href='vscode-notebook-cell://wsl%2Bubuntu-20.04/mnt/c/Users/fland/Desktop/5IF-KTH/DD2421-MACHINE_LEARNING/LAB3-bayes%2Bboosting/lab3.ipynb#X24sdnNjb2RlLXJlbW90ZQ%3D%3D?line=0'>1</a>\u001b[0m testClassifier(BoostClassifier(BayesClassifier(), T\u001b[39m=\u001b[39;49m\u001b[39m10\u001b[39;49m), dataset\u001b[39m=\u001b[39;49m\u001b[39m'\u001b[39;49m\u001b[39mvowel\u001b[39;49m\u001b[39m'\u001b[39;49m,split\u001b[39m=\u001b[39;49m\u001b[39m0.7\u001b[39;49m)\n",
      "\n",
      "File \u001b[0;32m/mnt/c/Users/fland/Desktop/5IF-KTH/DD2421-MACHINE_LEARNING/LAB3-bayes+boosting/labfuns.py:198\u001b[0m, in \u001b[0;36mtestClassifier\u001b[0;34m(classifier, dataset, dim, split, ntrials)\u001b[0m\n",
      "\u001b[1;32m    195\u001b[0m     xTe \u001b[39m=\u001b[39m pca\u001b[39m.\u001b[39mtransform(xTe)\n",
      "\u001b[1;32m    197\u001b[0m \u001b[39m# Train\u001b[39;00m\n",
      "\u001b[0;32m--> 198\u001b[0m trained_classifier \u001b[39m=\u001b[39m classifier\u001b[39m.\u001b[39;49mtrainClassifier(xTr, yTr)\n",
      "\u001b[1;32m    199\u001b[0m \u001b[39m# Predict\u001b[39;00m\n",
      "\u001b[1;32m    200\u001b[0m yPr \u001b[39m=\u001b[39m trained_classifier\u001b[39m.\u001b[39mclassify(xTe)\n",
      "\n",
      "\u001b[1;32m/mnt/c/Users/fland/Desktop/5IF-KTH/DD2421-MACHINE_LEARNING/LAB3-bayes+boosting/lab3.ipynb Cell 20\u001b[0m line \u001b[0;36mBoostClassifier.trainClassifier\u001b[0;34m(self, X, labels)\u001b[0m\n",
      "\u001b[1;32m      <a href='vscode-notebook-cell://wsl%2Bubuntu-20.04/mnt/c/Users/fland/Desktop/5IF-KTH/DD2421-MACHINE_LEARNING/LAB3-bayes%2Bboosting/lab3.ipynb#X24sdnNjb2RlLXJlbW90ZQ%3D%3D?line=8'>9</a>\u001b[0m rtn \u001b[39m=\u001b[39m BoostClassifier(\u001b[39mself\u001b[39m\u001b[39m.\u001b[39mbase_classifier, \u001b[39mself\u001b[39m\u001b[39m.\u001b[39mT)\n",
      "\u001b[1;32m     <a href='vscode-notebook-cell://wsl%2Bubuntu-20.04/mnt/c/Users/fland/Desktop/5IF-KTH/DD2421-MACHINE_LEARNING/LAB3-bayes%2Bboosting/lab3.ipynb#X24sdnNjb2RlLXJlbW90ZQ%3D%3D?line=9'>10</a>\u001b[0m rtn\u001b[39m.\u001b[39mnbr_classes \u001b[39m=\u001b[39m np\u001b[39m.\u001b[39msize(np\u001b[39m.\u001b[39munique(labels))\n",
      "\u001b[0;32m---> <a href='vscode-notebook-cell://wsl%2Bubuntu-20.04/mnt/c/Users/fland/Desktop/5IF-KTH/DD2421-MACHINE_LEARNING/LAB3-bayes%2Bboosting/lab3.ipynb#X24sdnNjb2RlLXJlbW90ZQ%3D%3D?line=10'>11</a>\u001b[0m rtn\u001b[39m.\u001b[39mclassifiers, rtn\u001b[39m.\u001b[39malphas \u001b[39m=\u001b[39m trainBoost(\u001b[39mself\u001b[39;49m\u001b[39m.\u001b[39;49mbase_classifier, X, labels, \u001b[39mself\u001b[39;49m\u001b[39m.\u001b[39;49mT)\n",
      "\u001b[1;32m     <a href='vscode-notebook-cell://wsl%2Bubuntu-20.04/mnt/c/Users/fland/Desktop/5IF-KTH/DD2421-MACHINE_LEARNING/LAB3-bayes%2Bboosting/lab3.ipynb#X24sdnNjb2RlLXJlbW90ZQ%3D%3D?line=11'>12</a>\u001b[0m rtn\u001b[39m.\u001b[39mtrained \u001b[39m=\u001b[39m \u001b[39mTrue\u001b[39;00m\n",
      "\u001b[1;32m     <a href='vscode-notebook-cell://wsl%2Bubuntu-20.04/mnt/c/Users/fland/Desktop/5IF-KTH/DD2421-MACHINE_LEARNING/LAB3-bayes%2Bboosting/lab3.ipynb#X24sdnNjb2RlLXJlbW90ZQ%3D%3D?line=12'>13</a>\u001b[0m \u001b[39mreturn\u001b[39;00m rtn\n",
      "\n",
      "\u001b[1;32m/mnt/c/Users/fland/Desktop/5IF-KTH/DD2421-MACHINE_LEARNING/LAB3-bayes+boosting/lab3.ipynb Cell 20\u001b[0m line \u001b[0;36mtrainBoost\u001b[0;34m(base_classifier, X, labels, T)\u001b[0m\n",
      "\u001b[1;32m     <a href='vscode-notebook-cell://wsl%2Bubuntu-20.04/mnt/c/Users/fland/Desktop/5IF-KTH/DD2421-MACHINE_LEARNING/LAB3-bayes%2Bboosting/lab3.ipynb#X24sdnNjb2RlLXJlbW90ZQ%3D%3D?line=14'>15</a>\u001b[0m wCur \u001b[39m=\u001b[39m np\u001b[39m.\u001b[39mones((Npts,\u001b[39m1\u001b[39m))\u001b[39m/\u001b[39m\u001b[39mfloat\u001b[39m(Npts)\n",
      "\u001b[1;32m     <a href='vscode-notebook-cell://wsl%2Bubuntu-20.04/mnt/c/Users/fland/Desktop/5IF-KTH/DD2421-MACHINE_LEARNING/LAB3-bayes%2Bboosting/lab3.ipynb#X24sdnNjb2RlLXJlbW90ZQ%3D%3D?line=16'>17</a>\u001b[0m \u001b[39mfor\u001b[39;00m i_iter \u001b[39min\u001b[39;00m \u001b[39mrange\u001b[39m(\u001b[39m0\u001b[39m, T):\n",
      "\u001b[1;32m     <a href='vscode-notebook-cell://wsl%2Bubuntu-20.04/mnt/c/Users/fland/Desktop/5IF-KTH/DD2421-MACHINE_LEARNING/LAB3-bayes%2Bboosting/lab3.ipynb#X24sdnNjb2RlLXJlbW90ZQ%3D%3D?line=17'>18</a>\u001b[0m     \u001b[39m# a new classifier can be trained like this, given the current weights\u001b[39;00m\n",
      "\u001b[0;32m---> <a href='vscode-notebook-cell://wsl%2Bubuntu-20.04/mnt/c/Users/fland/Desktop/5IF-KTH/DD2421-MACHINE_LEARNING/LAB3-bayes%2Bboosting/lab3.ipynb#X24sdnNjb2RlLXJlbW90ZQ%3D%3D?line=18'>19</a>\u001b[0m     classifiers\u001b[39m.\u001b[39mappend(base_classifier\u001b[39m.\u001b[39;49mtrainClassifier(X, labels, wCur))\n",
      "\u001b[1;32m     <a href='vscode-notebook-cell://wsl%2Bubuntu-20.04/mnt/c/Users/fland/Desktop/5IF-KTH/DD2421-MACHINE_LEARNING/LAB3-bayes%2Bboosting/lab3.ipynb#X24sdnNjb2RlLXJlbW90ZQ%3D%3D?line=20'>21</a>\u001b[0m     \u001b[39m# do classification for each point\u001b[39;00m\n",
      "\u001b[1;32m     <a href='vscode-notebook-cell://wsl%2Bubuntu-20.04/mnt/c/Users/fland/Desktop/5IF-KTH/DD2421-MACHINE_LEARNING/LAB3-bayes%2Bboosting/lab3.ipynb#X24sdnNjb2RlLXJlbW90ZQ%3D%3D?line=21'>22</a>\u001b[0m     vote \u001b[39m=\u001b[39m classifiers[\u001b[39m-\u001b[39m\u001b[39m1\u001b[39m]\u001b[39m.\u001b[39mclassify(X)\n",
      "\n",
      "\u001b[1;32m/mnt/c/Users/fland/Desktop/5IF-KTH/DD2421-MACHINE_LEARNING/LAB3-bayes+boosting/lab3.ipynb Cell 20\u001b[0m line \u001b[0;36mBayesClassifier.trainClassifier\u001b[0;34m(self, X, labels, W)\u001b[0m\n",
      "\u001b[1;32m      <a href='vscode-notebook-cell://wsl%2Bubuntu-20.04/mnt/c/Users/fland/Desktop/5IF-KTH/DD2421-MACHINE_LEARNING/LAB3-bayes%2Bboosting/lab3.ipynb#X24sdnNjb2RlLXJlbW90ZQ%3D%3D?line=6'>7</a>\u001b[0m rtn \u001b[39m=\u001b[39m BayesClassifier()\n",
      "\u001b[1;32m      <a href='vscode-notebook-cell://wsl%2Bubuntu-20.04/mnt/c/Users/fland/Desktop/5IF-KTH/DD2421-MACHINE_LEARNING/LAB3-bayes%2Bboosting/lab3.ipynb#X24sdnNjb2RlLXJlbW90ZQ%3D%3D?line=7'>8</a>\u001b[0m rtn\u001b[39m.\u001b[39mprior \u001b[39m=\u001b[39m computePrior(labels, W)\n",
      "\u001b[0;32m----> <a href='vscode-notebook-cell://wsl%2Bubuntu-20.04/mnt/c/Users/fland/Desktop/5IF-KTH/DD2421-MACHINE_LEARNING/LAB3-bayes%2Bboosting/lab3.ipynb#X24sdnNjb2RlLXJlbW90ZQ%3D%3D?line=8'>9</a>\u001b[0m rtn\u001b[39m.\u001b[39mmu, rtn\u001b[39m.\u001b[39msigma \u001b[39m=\u001b[39m mlParams(X, labels, W)\n",
      "\u001b[1;32m     <a href='vscode-notebook-cell://wsl%2Bubuntu-20.04/mnt/c/Users/fland/Desktop/5IF-KTH/DD2421-MACHINE_LEARNING/LAB3-bayes%2Bboosting/lab3.ipynb#X24sdnNjb2RlLXJlbW90ZQ%3D%3D?line=9'>10</a>\u001b[0m rtn\u001b[39m.\u001b[39mtrained \u001b[39m=\u001b[39m \u001b[39mTrue\u001b[39;00m\n",
      "\u001b[1;32m     <a href='vscode-notebook-cell://wsl%2Bubuntu-20.04/mnt/c/Users/fland/Desktop/5IF-KTH/DD2421-MACHINE_LEARNING/LAB3-bayes%2Bboosting/lab3.ipynb#X24sdnNjb2RlLXJlbW90ZQ%3D%3D?line=10'>11</a>\u001b[0m \u001b[39mreturn\u001b[39;00m rtn\n",
      "\n",
      "\u001b[1;32m/mnt/c/Users/fland/Desktop/5IF-KTH/DD2421-MACHINE_LEARNING/LAB3-bayes+boosting/lab3.ipynb Cell 20\u001b[0m line \u001b[0;36mmlParams\u001b[0;34m(X, labels, W)\u001b[0m\n",
      "\u001b[1;32m     <a href='vscode-notebook-cell://wsl%2Bubuntu-20.04/mnt/c/Users/fland/Desktop/5IF-KTH/DD2421-MACHINE_LEARNING/LAB3-bayes%2Bboosting/lab3.ipynb#X24sdnNjb2RlLXJlbW90ZQ%3D%3D?line=55'>56</a>\u001b[0m     index_class \u001b[39m=\u001b[39m np\u001b[39m.\u001b[39mwhere(classes \u001b[39m==\u001b[39m labels[i_pts])[\u001b[39m0\u001b[39m][\u001b[39m0\u001b[39m]\n",
      "\u001b[1;32m     <a href='vscode-notebook-cell://wsl%2Bubuntu-20.04/mnt/c/Users/fland/Desktop/5IF-KTH/DD2421-MACHINE_LEARNING/LAB3-bayes%2Bboosting/lab3.ipynb#X24sdnNjb2RlLXJlbW90ZQ%3D%3D?line=56'>57</a>\u001b[0m     \u001b[39mfor\u001b[39;00m i_dim \u001b[39min\u001b[39;00m \u001b[39mrange\u001b[39m(Ndims):\n",
      "\u001b[0;32m---> <a href='vscode-notebook-cell://wsl%2Bubuntu-20.04/mnt/c/Users/fland/Desktop/5IF-KTH/DD2421-MACHINE_LEARNING/LAB3-bayes%2Bboosting/lab3.ipynb#X24sdnNjb2RlLXJlbW90ZQ%3D%3D?line=57'>58</a>\u001b[0m         sigma[index_class][i_dim][i_dim] \u001b[39m+\u001b[39m\u001b[39m=\u001b[39m (X[i_pts][i_dim]\u001b[39m-\u001b[39mmu[index_class][i_dim])\u001b[39m*\u001b[39m\u001b[39m*\u001b[39m\u001b[39m2\u001b[39m\n",
      "\u001b[1;32m     <a href='vscode-notebook-cell://wsl%2Bubuntu-20.04/mnt/c/Users/fland/Desktop/5IF-KTH/DD2421-MACHINE_LEARNING/LAB3-bayes%2Bboosting/lab3.ipynb#X24sdnNjb2RlLXJlbW90ZQ%3D%3D?line=58'>59</a>\u001b[0m \u001b[39mfor\u001b[39;00m i_class \u001b[39min\u001b[39;00m \u001b[39mrange\u001b[39m(Nclasses):\n",
      "\u001b[1;32m     <a href='vscode-notebook-cell://wsl%2Bubuntu-20.04/mnt/c/Users/fland/Desktop/5IF-KTH/DD2421-MACHINE_LEARNING/LAB3-bayes%2Bboosting/lab3.ipynb#X24sdnNjb2RlLXJlbW90ZQ%3D%3D?line=59'>60</a>\u001b[0m     \u001b[39mfor\u001b[39;00m i_dim \u001b[39min\u001b[39;00m \u001b[39mrange\u001b[39m(Ndims):\n",
      "\n",
      "\u001b[0;31mKeyboardInterrupt\u001b[0m: "
     ]
    }
   ],
   "source": [
    "testClassifier(BoostClassifier(BayesClassifier(), T=10), dataset='vowel',split=0.7)"
   ]
  },
  {
   "cell_type": "code",
   "execution_count": null,
   "metadata": {},
   "outputs": [],
   "source": [
    "%matplotlib inline\n",
    "plotBoundary(BoostClassifier(BayesClassifier()), dataset='iris',split=0.7)"
   ]
  },
  {
   "cell_type": "markdown",
   "metadata": {},
   "source": [
    "Now repeat the steps with a decision tree classifier."
   ]
  },
  {
   "cell_type": "code",
   "execution_count": null,
   "metadata": {},
   "outputs": [],
   "source": [
    "testClassifier(DecisionTreeClassifier(), dataset='iris', split=0.7)"
   ]
  },
  {
   "cell_type": "code",
   "execution_count": null,
   "metadata": {},
   "outputs": [],
   "source": [
    "testClassifier(BoostClassifier(DecisionTreeClassifier(), T=10), dataset='iris',split=0.7)"
   ]
  },
  {
   "cell_type": "code",
   "execution_count": null,
   "metadata": {},
   "outputs": [],
   "source": [
    "testClassifier(DecisionTreeClassifier(), dataset='vowel',split=0.7)"
   ]
  },
  {
   "cell_type": "code",
   "execution_count": null,
   "metadata": {},
   "outputs": [],
   "source": [
    "testClassifier(BoostClassifier(DecisionTreeClassifier(), T=10), dataset='vowel',split=0.7)"
   ]
  },
  {
   "cell_type": "code",
   "execution_count": null,
   "metadata": {},
   "outputs": [],
   "source": [
    "%matplotlib inline\n",
    "plotBoundary(DecisionTreeClassifier(), dataset='iris',split=0.7)"
   ]
  },
  {
   "cell_type": "code",
   "execution_count": null,
   "metadata": {},
   "outputs": [],
   "source": [
    "%matplotlib inline\n",
    "plotBoundary(BoostClassifier(DecisionTreeClassifier(), T=10), dataset='iris',split=0.7)"
   ]
  },
  {
   "cell_type": "markdown",
   "metadata": {},
   "source": [
    "## Bonus: Visualize faces classified using boosted decision trees\n",
    "\n",
    "Note that this part of the assignment is completely voluntary! First, let's check how a boosted decision tree classifier performs on the olivetti data. Note that we need to reduce the dimension a bit using PCA, as the original dimension of the image vectors is `64 x 64 = 4096` elements."
   ]
  },
  {
   "cell_type": "code",
   "execution_count": null,
   "metadata": {},
   "outputs": [],
   "source": [
    "testClassifier(BayesClassifier(), dataset='olivetti',split=0.7, dim=20)"
   ]
  },
  {
   "cell_type": "code",
   "execution_count": null,
   "metadata": {},
   "outputs": [],
   "source": [
    "testClassifier(BoostClassifier(DecisionTreeClassifier(), T=10), dataset='olivetti',split=0.7, dim=20)"
   ]
  },
  {
   "cell_type": "markdown",
   "metadata": {},
   "source": [
    "You should get an accuracy around 70%. If you wish, you can compare this with using pure decision trees or a boosted bayes classifier. Not too bad, now let's try and classify a face as belonging to one of 40 persons!"
   ]
  },
  {
   "cell_type": "code",
   "execution_count": null,
   "metadata": {},
   "outputs": [],
   "source": [
    "%matplotlib inline\n",
    "X,y,pcadim = fetchDataset('olivetti') # fetch the olivetti data\n",
    "xTr,yTr,xTe,yTe,trIdx,teIdx = trteSplitEven(X,y,0.7) # split into training and testing\n",
    "pca = decomposition.PCA(n_components=20) # use PCA to reduce the dimension to 20\n",
    "pca.fit(xTr) # use training data to fit the transform\n",
    "xTrpca = pca.transform(xTr) # apply on training data\n",
    "xTepca = pca.transform(xTe) # apply on test data\n",
    "# use our pre-defined decision tree classifier together with the implemented\n",
    "# boosting to classify data points in the training data\n",
    "classifier = BoostClassifier(DecisionTreeClassifier(), T=10).trainClassifier(xTrpca, yTr)\n",
    "yPr = classifier.classify(xTepca)\n",
    "# choose a test point to visualize\n",
    "testind = random.randint(0, xTe.shape[0]-1)\n",
    "# visualize the test point together with the training points used to train\n",
    "# the class that the test point was classified to belong to\n",
    "visualizeOlivettiVectors(xTr[yTr == yPr[testind],:], xTe[testind,:])"
   ]
  }
 ],
 "metadata": {
  "language_info": {
   "name": "python"
  },
  "orig_nbformat": 4
 },
 "nbformat": 4,
 "nbformat_minor": 2
}
