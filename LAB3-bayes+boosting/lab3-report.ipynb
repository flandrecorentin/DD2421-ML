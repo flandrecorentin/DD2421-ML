{
 "cells": [
  {
   "cell_type": "markdown",
   "metadata": {},
   "source": [
    "# Introduction"
   ]
  },
  {
   "cell_type": "markdown",
   "metadata": {},
   "source": [
    "During the lab, we will overview the basics of bayesian learning and boosting. First, we will implement a bayes classifier based on the maximum likelihood estimation. Then, we will boost classifier to improve classification (using Adaboost algorithm). Finally, we will compare the decision tree classifier to the bayes classifier."
   ]
  },
  {
   "cell_type": "markdown",
   "metadata": {},
   "source": [
    "In terms of technical code we will learn importants things because we will use a ordinary environment. It means usage of Python langage, jupyter nootebook, famous machine learning datasets (iris, vowel and olivetti faces),  and communs machine learning package/library (numpy, scipy, random, matplot and sklearn) "
   ]
  },
  {
   "cell_type": "code",
   "execution_count": 113,
   "metadata": {
    "tags": []
   },
   "outputs": [],
   "source": [
    "import numpy as np\n",
    "from scipy import misc\n",
    "from imp import reload\n",
    "from labfuns import *\n",
    "import random\n",
    "\n",
    "# fix random seed for the lab\n",
    "random.seed(100)"
   ]
  },
  {
   "cell_type": "markdown",
   "metadata": {},
   "source": [
    "# Bayes Classifier"
   ]
  },
  {
   "cell_type": "markdown",
   "metadata": {},
   "source": [
    "### Assignement 1"
   ]
  },
  {
   "cell_type": "code",
   "execution_count": 114,
   "metadata": {
    "tags": []
   },
   "outputs": [],
   "source": [
    "# in:      X - N x d matrix of N data points\n",
    "#     labels - N vector of class labels\n",
    "# out:    mu - C x d matrix of class means (mu[i] - class i mean)\n",
    "#      sigma - C x d x d matrix of class covariances (sigma[i] - class i sigma)\n",
    "def mlParamsp1(X, labels, W=None):\n",
    "    assert(X.shape[0]==labels.shape[0])\n",
    "    Npts,Ndims = np.shape(X)\n",
    "    classes = np.unique(labels)\n",
    "    Nclasses = np.size(classes)\n",
    "\n",
    "    if W is None:\n",
    "        W = np.ones((Npts,1))/float(Npts)\n",
    "\n",
    "    mu = np.zeros((Nclasses,Ndims))\n",
    "    sigma = np.zeros((Nclasses,Ndims,Ndims))\n",
    "\n",
    "    # ==========================\n",
    "    # Computing mu\n",
    "    Nkclasses = np.zeros(Nclasses)\n",
    "    for i_pts in range(Npts):\n",
    "        index_class = np.where(classes == labels[i_pts])[0][0]\n",
    "        Nkclasses[index_class] += 1.0\n",
    "        for i_dim in range(Ndims):\n",
    "            mu[index_class][i_dim] += X[i_pts][i_dim]\n",
    "    for i_class in range(Nclasses):\n",
    "        for i_dim in range(Ndims):\n",
    "            mu[i_class][i_dim] = mu[i_class][i_dim]/Nkclasses[i_class]\n",
    "    # Computing sigma\n",
    "    for i_pts in range(Npts):\n",
    "        index_class = np.where(classes == labels[i_pts])[0][0]\n",
    "        for i_dim in range(Ndims):\n",
    "            sigma[index_class][i_dim][i_dim] += (X[i_pts][i_dim]-mu[index_class][i_dim])**2\n",
    "    for i_class in range(Nclasses):\n",
    "        for i_dim in range(Ndims):\n",
    "            sigma[i_class][i_dim][i_dim] = sigma[i_class][i_dim][i_dim]/Nkclasses[i_class]\n",
    "    # ==========================\n",
    "    return mu, sigma"
   ]
  },
  {
   "cell_type": "code",
   "execution_count": 115,
   "metadata": {},
   "outputs": [
    {
     "data": {
      "image/png": "[encoded data removed]",
      "text/plain": [
       "<Figure size 432x288 with 1 Axes>"
      ]
     },
     "metadata": {
      "needs_background": "light"
     },
     "output_type": "display_data"
    }
   ],
   "source": [
    "%matplotlib inline\n",
    "\n",
    "X, labels = genBlobs(centers=5)\n",
    "mu, sigma = mlParamsp1(X,labels)\n",
    "plotGaussian(X,labels,mu,sigma)"
   ]
  },
  {
   "cell_type": "markdown",
   "metadata": {},
   "source": [
    "### Assignement 2"
   ]
  },
  {
   "cell_type": "code",
   "execution_count": 116,
   "metadata": {
    "tags": []
   },
   "outputs": [],
   "source": [
    "# in: labels - N vector of class labels\n",
    "# out: prior - C x 1 vector of class priors\n",
    "def computePriorp1(labels, W=None):\n",
    "    Npts = labels.shape[0]\n",
    "    if W is None:\n",
    "        W = np.ones((Npts,1))/Npts\n",
    "    else:\n",
    "        assert(W.shape[0] == Npts)\n",
    "    classes = np.unique(labels)\n",
    "    Nclasses = np.size(classes)\n",
    "\n",
    "    prior = np.zeros((Nclasses,1))\n",
    "\n",
    "    # ==========================\n",
    "    # computing prior\n",
    "    for i_label in range(Npts):\n",
    "        index_class = np.where(classes == labels[i_label])[0][0]\n",
    "        prior[index_class] +=1.0\n",
    "    prior = prior/Npts\n",
    "    # ==========================\n",
    "    return prior"
   ]
  },
  {
   "cell_type": "code",
   "execution_count": 117,
   "metadata": {
    "tags": []
   },
   "outputs": [],
   "source": [
    "# in:      X - N x d matrix of M data points\n",
    "#      prior - C x 1 matrix of class priors\n",
    "#         mu - C x d matrix of class means (mu[i] - class i mean)\n",
    "#      sigma - C x d x d matrix of class covariances (sigma[i] - class i sigma)\n",
    "# out:     h - N vector of class predictions for test points\n",
    "def classifyBayesp1(X, prior, mu, sigma):\n",
    "\n",
    "    Npts = X.shape[0]\n",
    "    Nclasses,Ndims = np.shape(mu)\n",
    "    logProb = np.zeros((Nclasses, Npts))\n",
    "\n",
    "    # ==========================\n",
    "    for i_class in range(Nclasses):\n",
    "        for i_pts in range(Npts):\n",
    "            discr = 1.0\n",
    "            for i_dim in range(Ndims):\n",
    "                discr = discr* sigma[i_class][i_dim][i_dim]\n",
    "            logProb[i_class][i_pts] = -0.5*np.log(abs(discr))\n",
    "            product = 0.0\n",
    "            for i_dim in range(Ndims):\n",
    "                product += ((1.0/sigma[i_class][i_dim][i_dim]) * ((X[i_pts][i_dim]-mu[i_class][i_dim])**2))\n",
    "            logProb[i_class][i_pts] += -0.5 * product\n",
    "            logProb[i_class][i_pts] += np.log(prior[i_class])\n",
    "    # ==========================\n",
    "    \n",
    "    # one possible way of finding max a-posteriori once\n",
    "    # you have computed the log posterior\n",
    "    h = np.argmax(logProb,axis=0)\n",
    "    return h"
   ]
  },
  {
   "cell_type": "markdown",
   "metadata": {},
   "source": [
    "### Assignement 3"
   ]
  },
  {
   "cell_type": "code",
   "execution_count": 118,
   "metadata": {
    "tags": []
   },
   "outputs": [],
   "source": [
    "class BayesClassifierp1(object):\n",
    "    def __init__(self):\n",
    "        self.trained = False\n",
    "\n",
    "    def trainClassifier(self, X, labels, W=None):\n",
    "        rtn = BayesClassifierp1()\n",
    "        rtn.prior = computePriorp1(labels, W)\n",
    "        rtn.mu, rtn.sigma = mlParamsp1(X, labels, W)\n",
    "        rtn.trained = True\n",
    "        return rtn\n",
    "\n",
    "    def classify(self, X):\n",
    "        return classifyBayesp1(X, self.prior, self.mu, self.sigma)"
   ]
  },
  {
   "cell_type": "code",
   "execution_count": 119,
   "metadata": {},
   "outputs": [
    {
     "name": "stdout",
     "output_type": "stream",
     "text": [
      "Trial: 0 Accuracy 84.4\n",
      "Trial: 10 Accuracy 95.6\n",
      "Trial: 20 Accuracy 93.3\n",
      "Trial: 30 Accuracy 86.7\n",
      "Trial: 40 Accuracy 88.9\n",
      "Trial: 50 Accuracy 91.1\n",
      "Trial: 60 Accuracy 86.7\n",
      "Trial: 70 Accuracy 91.1\n",
      "Trial: 80 Accuracy 86.7\n",
      "Trial: 90 Accuracy 91.1\n",
      "Final mean classification accuracy  89 with standard deviation 4.16\n"
     ]
    }
   ],
   "source": [
    "testClassifier(BayesClassifierp1(), dataset='iris', split=0.7)"
   ]
  },
  {
   "cell_type": "code",
   "execution_count": 120,
   "metadata": {
    "tags": []
   },
   "outputs": [
    {
     "name": "stderr",
     "output_type": "stream",
     "text": [
      "/mnt/c/Users/fland/Desktop/5IF-KTH/DD2421-MACHINE_LEARNING/LAB3-bayes+boosting/labfuns.py:257: UserWarning: *c* argument looks like a single numeric RGB or RGBA sequence, which should be avoided as value-mapping will have precedence in case its length matches with *x* & *y*.  Please use the *color* keyword-argument or provide a 2D array with a single row if you intend to specify the same RGB or RGBA value for all points.\n",
      "  plt.scatter(xTr[trClIdx,0],xTr[trClIdx,1],marker='o',c=color,s=40,alpha=0.5, label=\"Class \"+str(c)+\" Train\")\n",
      "/mnt/c/Users/fland/Desktop/5IF-KTH/DD2421-MACHINE_LEARNING/LAB3-bayes+boosting/labfuns.py:258: UserWarning: *c* argument looks like a single numeric RGB or RGBA sequence, which should be avoided as value-mapping will have precedence in case its length matches with *x* & *y*.  Please use the *color* keyword-argument or provide a 2D array with a single row if you intend to specify the same RGB or RGBA value for all points.\n",
      "  plt.scatter(xTe[teClIdx,0],xTe[teClIdx,1],marker='*',c=color,s=50,alpha=0.8, label=\"Class \"+str(c)+\" Test\")\n"
     ]
    },
    {
     "data": {
      "image/png": "[encoded data removed]",
      "text/plain": [
       "<Figure size 432x288 with 1 Axes>"
      ]
     },
     "metadata": {
      "needs_background": "light"
     },
     "output_type": "display_data"
    }
   ],
   "source": [
    "%matplotlib inline\n",
    "plotBoundary(BayesClassifierp1(), dataset='iris',split=0.7)"
   ]
  },
  {
   "cell_type": "code",
   "execution_count": 121,
   "metadata": {},
   "outputs": [
    {
     "name": "stdout",
     "output_type": "stream",
     "text": [
      "Trial: 0 Accuracy 61\n",
      "Trial: 10 Accuracy 66.2\n",
      "Trial: 20 Accuracy 74\n",
      "Trial: 30 Accuracy 66.9\n",
      "Trial: 40 Accuracy 59.7\n",
      "Trial: 50 Accuracy 64.3\n",
      "Trial: 60 Accuracy 66.9\n",
      "Trial: 70 Accuracy 63.6\n",
      "Trial: 80 Accuracy 62.3\n",
      "Trial: 90 Accuracy 70.8\n",
      "Final mean classification accuracy  64.7 with standard deviation 4.03\n"
     ]
    }
   ],
   "source": [
    "testClassifier(BayesClassifierp1(), dataset='vowel', split=0.7)"
   ]
  },
  {
   "cell_type": "markdown",
   "metadata": {},
   "source": [
    ">  When can a feature independence assumption be reasonable and when not?"
   ]
  },
  {
   "cell_type": "markdown",
   "metadata": {},
   "source": [
    "> How does the decision boundary look for the Iris dataset? How could one improve the classification results for this scenario by changing classifier or, alternatively, manipulating the data?"
   ]
  },
  {
   "cell_type": "markdown",
   "metadata": {},
   "source": [
    "# Boosting"
   ]
  },
  {
   "cell_type": "markdown",
   "metadata": {},
   "source": [
    "### Assignement 4"
   ]
  },
  {
   "cell_type": "code",
   "execution_count": 122,
   "metadata": {},
   "outputs": [],
   "source": [
    "# in:      X - N x d matrix of N data points\n",
    "#     labels - N vector of class labels\n",
    "#          W - N vector of weight of data points\n",
    "# out:    mu - C x d matrix of class means (mu[i] - class i mean)\n",
    "#      sigma - C x d x d matrix of class covariances (sigma[i] - class i sigma)\n",
    "def mlParams(X, labels, W=None):\n",
    "    assert(X.shape[0]==labels.shape[0])\n",
    "    Npts,Ndims = np.shape(X)\n",
    "    classes = np.unique(labels)\n",
    "    Nclasses = np.size(classes)\n",
    "\n",
    "    if W is None:\n",
    "        W = np.ones((Npts,1))/float(Npts)\n",
    "\n",
    "    mu = np.zeros((Nclasses,Ndims))\n",
    "    sigma = np.zeros((Nclasses,Ndims,Ndims))\n",
    "\n",
    "    # ==========================\n",
    "    # Computing mu\n",
    "    Nkclasses = np.zeros(Nclasses)\n",
    "    Wkclasses = np.zeros(Nclasses)\n",
    "    for i_pts in range(Npts):\n",
    "        index_class = np.where(classes == labels[i_pts])[0][0]\n",
    "        Wkclasses[index_class] += W[i_pts]\n",
    "        for i_dim in range(Ndims):\n",
    "            mu[index_class][i_dim] += X[i_pts][i_dim]*W[i_pts]\n",
    "    for i_class in range(Nclasses):\n",
    "        for i_dim in range(Ndims):\n",
    "            mu[i_class][i_dim] = mu[i_class][i_dim]/Wkclasses[i_class]\n",
    "    # Computing sigma\n",
    "    for i_pts in range(Npts):\n",
    "        index_class = np.where(classes == labels[i_pts])[0][0]\n",
    "        for i_dim in range(Ndims):\n",
    "            sigma[index_class][i_dim][i_dim] += W[i_pts]*((X[i_pts][i_dim]-mu[index_class][i_dim])**2)\n",
    "    for i_class in range(Nclasses):\n",
    "        for i_dim in range(Ndims):\n",
    "            sigma[i_class][i_dim][i_dim] = sigma[i_class][i_dim][i_dim]/Wkclasses[i_class]\n",
    "    # ==========================\n",
    "    return mu, sigma"
   ]
  },
  {
   "cell_type": "markdown",
   "metadata": {},
   "source": [
    "### Assignement 5"
   ]
  },
  {
   "cell_type": "code",
   "execution_count": 123,
   "metadata": {},
   "outputs": [],
   "source": [
    "# in: labels - N vector of class labels\n",
    "# out: prior - C x 1 vector of class priors\n",
    "def computePrior(labels, W):\n",
    "    Npts = labels.shape[0]\n",
    "    if W is None:\n",
    "        W = np.ones((Npts,1))/Npts\n",
    "    else:\n",
    "        assert(W.shape[0] == Npts)\n",
    "    classes = np.unique(labels)\n",
    "    Nclasses = np.size(classes)\n",
    "\n",
    "    prior = np.zeros((Nclasses,1))\n",
    "\n",
    "    # ==========================\n",
    "    for i_pts in range(Npts):\n",
    "        index_class = np.where(classes == labels[i_pts])[0][0]\n",
    "        prior[index_class] += W[i_pts]\n",
    "    # ==========================\n",
    "    return prior/float(np.sum(prior))"
   ]
  },
  {
   "cell_type": "code",
   "execution_count": 124,
   "metadata": {},
   "outputs": [],
   "source": [
    "# in:      X - N x d matrix of M data points\n",
    "#      prior - C x 1 matrix of class priors\n",
    "#         mu - C x d matrix of class means (mu[i] - class i mean)\n",
    "#      sigma - C x d x d matrix of class covariances (sigma[i] - class i sigma)\n",
    "# out:     h - N vector of class predictions for test points\n",
    "def classifyBayes(X, prior, mu, sigma):\n",
    "\n",
    "    Npts = X.shape[0]\n",
    "    Nclasses,Ndims = np.shape(mu)\n",
    "    logProb = np.zeros((Nclasses, Npts))\n",
    "\n",
    "    # ==========================\n",
    "    for i_class in range(Nclasses):\n",
    "        for i_pts in range(Npts):\n",
    "            discr = 1.0\n",
    "            for i_dim in range(Ndims):\n",
    "                discr = discr* sigma[i_class][i_dim][i_dim]\n",
    "            logProb[i_class][i_pts] = -0.5*np.log(abs(discr))\n",
    "            product = 0.0\n",
    "            for i_dim in range(Ndims):\n",
    "                product += ((1.0/sigma[i_class][i_dim][i_dim]) * ((X[i_pts][i_dim]-mu[i_class][i_dim])**2))\n",
    "            logProb[i_class][i_pts] += -0.5 * product\n",
    "            logProb[i_class][i_pts] += np.log(prior[i_class])\n",
    "    # ==========================\n",
    "    \n",
    "    # one possible way of finding max a-posteriori once\n",
    "    # you have computed the log posterior\n",
    "    h = np.argmax(logProb,axis=0)\n",
    "    return h"
   ]
  },
  {
   "cell_type": "code",
   "execution_count": 125,
   "metadata": {},
   "outputs": [],
   "source": [
    "class BayesClassifier(object):\n",
    "    def __init__(self):\n",
    "        self.trained = False\n",
    "\n",
    "    def trainClassifier(self, X, labels, W):\n",
    "        rtn = BayesClassifier()\n",
    "        rtn.prior = computePrior(labels, W)\n",
    "        rtn.mu, rtn.sigma = mlParams(X, labels, W)\n",
    "        rtn.trained = True\n",
    "        return rtn\n",
    "\n",
    "    def classify(self, X):\n",
    "        return classifyBayes(X, self.prior, self.mu, self.sigma)"
   ]
  },
  {
   "cell_type": "code",
   "execution_count": 126,
   "metadata": {},
   "outputs": [],
   "source": [
    "# in: base_classifier - a classifier of the type that we will boost, e.g. BayesClassifier\n",
    "#                   X - N x d matrix of N data points\n",
    "#              labels - N vector of class labels\n",
    "#                   T - number of boosting iterations\n",
    "# out:    classifiers - (maximum) length T Python list of trained classifiers\n",
    "#              alphas - (maximum) length T Python list of vote weights\n",
    "def trainBoost(base_classifier, X, labels, T=10):\n",
    "    # these will come in handy later on\n",
    "    Npts,Ndims = np.shape(X)\n",
    "\n",
    "    classifiers = [] # append new classifiers to this list\n",
    "    alphas = [] # append the vote weight of the classifiers to this list\n",
    "\n",
    "    # The weights for the first iteration\n",
    "    wCur = np.ones((Npts,1))/float(Npts)\n",
    "\n",
    "    for i_iter in range(0, T):\n",
    "        # a new classifier can be trained like this, given the current weights\n",
    "        classifiers.append(base_classifier.trainClassifier(X, labels, wCur))\n",
    "\n",
    "        # do classification for each point\n",
    "        vote = classifiers[-1].classify(X)\n",
    "\n",
    "        # ==========================\n",
    "        # priorsCur = computePrior(labels, wCur):\n",
    "        eCur = 0.0\n",
    "        for i_pts in range(Npts):\n",
    "            hyp = (vote[i_pts] == labels[i_pts])\n",
    "            eCur += (wCur[i_pts]*(1.0-(1.0 if hyp else 0.0)))\n",
    "        alpha = 0.5*(np.log(1-eCur)-np.log(eCur))\n",
    "        alphas.append(alpha) # you will need to append the new alpha\n",
    "        # update weights\n",
    "        for i_pts in range(Npts):\n",
    "            hyp = (vote[i_pts] == labels[i_pts])\n",
    "            wCur[i_pts] = (wCur[i_pts])*(np.exp(-alpha) if hyp else np.exp(alpha))\n",
    "        normFactor = float(np.sum(wCur))\n",
    "        wCur = wCur / normFactor\n",
    "        # ==========================\n",
    "    return classifiers, alphas"
   ]
  },
  {
   "cell_type": "code",
   "execution_count": 127,
   "metadata": {},
   "outputs": [],
   "source": [
    "# in:       X - N x d matrix of N data points\n",
    "# classifiers - (maximum) length T Python list of trained classifiers as above\n",
    "#      alphas - (maximum) length T Python list of vote weights\n",
    "#    Nclasses - the number of different classes\n",
    "# out:  yPred - N vector of class predictions for test points\n",
    "def classifyBoost(X, classifiers, alphas, Nclasses):\n",
    "    Npts = X.shape[0]\n",
    "    Ncomps = len(classifiers)\n",
    "\n",
    "    # if we only have one classifier, we may just classify directly\n",
    "    if Ncomps == 1:\n",
    "        return classifiers[0].classify(X)\n",
    "    else:\n",
    "        votes = np.zeros((Npts,Nclasses))\n",
    "\n",
    "        # here we can do it by filling in the votes vector with weighted votes\n",
    "        # ==========================\n",
    "        hyp = np.zeros((Npts, Ncomps))\n",
    "        # labels = classifiers[0].classify(X)\n",
    "        for t in range(Ncomps):\n",
    "            hypt = classifiers[t].classify(X)\n",
    "            for i_pts in range(Npts):\n",
    "                hyp[i_pts][t] = hypt[i_pts]\n",
    "\n",
    "        for i_pts in range(Npts):\n",
    "            # classifiers[0].classify(X[i_pts])\n",
    "            for i_class in range(Nclasses):\n",
    "                sum = 0.0\n",
    "                for i_Ncomps in range(Ncomps):\n",
    "                    # classifiers[i_Ncomps].classify(X[i_pts])\n",
    "                    h = hyp[i_pts][i_Ncomps] == i_class\n",
    "                    sum += alphas[i_Ncomps]* (1.0 if h else 0.0)\n",
    "                    # sum += alphas[i_Ncomps][0]* 1.0\n",
    "                votes[i_pts][i_class] = sum\n",
    "        # ==========================\n",
    "\n",
    "        # one way to compute yPred after accumulating the votes\n",
    "        return np.argmax(votes,axis=1)"
   ]
  },
  {
   "cell_type": "code",
   "execution_count": 128,
   "metadata": {},
   "outputs": [],
   "source": [
    "class BoostClassifier(object):\n",
    "    def __init__(self, base_classifier, T=10):\n",
    "        self.base_classifier = base_classifier\n",
    "        self.T = T\n",
    "        self.trained = False\n",
    "\n",
    "    def trainClassifier(self, X, labels):\n",
    "        rtn = BoostClassifier(self.base_classifier, self.T)\n",
    "        rtn.nbr_classes = np.size(np.unique(labels))\n",
    "        rtn.classifiers, rtn.alphas = trainBoost(self.base_classifier, X, labels, self.T)\n",
    "        rtn.trained = True\n",
    "        return rtn\n",
    "\n",
    "    def classify(self, X):\n",
    "        return classifyBoost(X, self.classifiers, self.alphas, self.nbr_classes)"
   ]
  },
  {
   "cell_type": "code",
   "execution_count": 129,
   "metadata": {},
   "outputs": [
    {
     "name": "stdout",
     "output_type": "stream",
     "text": [
      "Trial: 0 Accuracy 95.6\n"
     ]
    },
    {
     "name": "stderr",
     "output_type": "stream",
     "text": [
      "/tmp/ipykernel_18810/2732376212.py:30: RuntimeWarning: divide by zero encountered in log\n",
      "  alpha = 0.5*(np.log(1-eCur)-np.log(eCur))\n",
      "/tmp/ipykernel_18810/2732376212.py:37: RuntimeWarning: invalid value encountered in divide\n",
      "  wCur = wCur / normFactor\n",
      "/tmp/ipykernel_18810/2163148249.py:32: RuntimeWarning: invalid value encountered in multiply\n",
      "  sum += alphas[i_Ncomps]* (1.0 if h else 0.0)\n"
     ]
    },
    {
     "name": "stdout",
     "output_type": "stream",
     "text": [
      "Trial: 10 Accuracy 100\n",
      "Trial: 20 Accuracy 93.3\n",
      "Trial: 30 Accuracy 91.1\n",
      "Trial: 40 Accuracy 97.8\n",
      "Trial: 50 Accuracy 93.3\n",
      "Trial: 60 Accuracy 93.3\n",
      "Trial: 70 Accuracy 97.8\n",
      "Trial: 80 Accuracy 95.6\n",
      "Trial: 90 Accuracy 93.3\n",
      "Final mean classification accuracy  94.1 with standard deviation 6.72\n"
     ]
    }
   ],
   "source": [
    "testClassifier(BoostClassifier(BayesClassifier(), T=10), dataset='iris',split=0.7)"
   ]
  },
  {
   "cell_type": "code",
   "execution_count": 130,
   "metadata": {},
   "outputs": [
    {
     "name": "stderr",
     "output_type": "stream",
     "text": [
      "/mnt/c/Users/fland/Desktop/5IF-KTH/DD2421-MACHINE_LEARNING/LAB3-bayes+boosting/labfuns.py:257: UserWarning: *c* argument looks like a single numeric RGB or RGBA sequence, which should be avoided as value-mapping will have precedence in case its length matches with *x* & *y*.  Please use the *color* keyword-argument or provide a 2D array with a single row if you intend to specify the same RGB or RGBA value for all points.\n",
      "  plt.scatter(xTr[trClIdx,0],xTr[trClIdx,1],marker='o',c=color,s=40,alpha=0.5, label=\"Class \"+str(c)+\" Train\")\n",
      "/mnt/c/Users/fland/Desktop/5IF-KTH/DD2421-MACHINE_LEARNING/LAB3-bayes+boosting/labfuns.py:258: UserWarning: *c* argument looks like a single numeric RGB or RGBA sequence, which should be avoided as value-mapping will have precedence in case its length matches with *x* & *y*.  Please use the *color* keyword-argument or provide a 2D array with a single row if you intend to specify the same RGB or RGBA value for all points.\n",
      "  plt.scatter(xTe[teClIdx,0],xTe[teClIdx,1],marker='*',c=color,s=50,alpha=0.8, label=\"Class \"+str(c)+\" Test\")\n"
     ]
    },
    {
     "data": {
      "image/png": "[encoded data removed]",
      "text/plain": [
       "<Figure size 432x288 with 1 Axes>"
      ]
     },
     "metadata": {
      "needs_background": "light"
     },
     "output_type": "display_data"
    }
   ],
   "source": [
    "%matplotlib inline\n",
    "plotBoundary(BoostClassifier(BayesClassifier()), dataset='iris',split=0.7)"
   ]
  },
  {
   "cell_type": "code",
   "execution_count": 131,
   "metadata": {},
   "outputs": [
    {
     "name": "stdout",
     "output_type": "stream",
     "text": [
      "Trial: 0 Accuracy 76.6\n",
      "Trial: 10 Accuracy 86.4\n",
      "Trial: 20 Accuracy 83.1\n",
      "Trial: 30 Accuracy 80.5\n",
      "Trial: 40 Accuracy 72.7\n",
      "Trial: 50 Accuracy 76\n",
      "Trial: 60 Accuracy 81.8\n",
      "Trial: 70 Accuracy 82.5\n",
      "Trial: 80 Accuracy 79.9\n",
      "Trial: 90 Accuracy 83.1\n",
      "Final mean classification accuracy  80.2 with standard deviation 3.52\n"
     ]
    }
   ],
   "source": [
    "testClassifier(BoostClassifier(BayesClassifier(), T=10), dataset='vowel',split=0.7)"
   ]
  },
  {
   "cell_type": "markdown",
   "metadata": {},
   "source": [
    "> Is there any improvement in classification accuracy? Why/why not?"
   ]
  },
  {
   "cell_type": "markdown",
   "metadata": {},
   "source": [
    ">  Compare the decision boundary of the boosted classifier with the basic one. What differences do you notice? Is the boundary of the boosted version more complex?"
   ]
  },
  {
   "cell_type": "markdown",
   "metadata": {},
   "source": [
    "> Can we make up for not using a more advanced model in the basic classifier (e.g. independent features) by using boosting?"
   ]
  },
  {
   "cell_type": "markdown",
   "metadata": {},
   "source": [
    "# Decision Tree"
   ]
  },
  {
   "cell_type": "markdown",
   "metadata": {},
   "source": [
    "## Decision Tree Classifier"
   ]
  },
  {
   "cell_type": "code",
   "execution_count": 132,
   "metadata": {},
   "outputs": [
    {
     "name": "stdout",
     "output_type": "stream",
     "text": [
      "Trial: 0 Accuracy 95.6\n",
      "Trial: 10 Accuracy 100\n",
      "Trial: 20 Accuracy 91.1\n",
      "Trial: 30 Accuracy 91.1\n",
      "Trial: 40 Accuracy 93.3\n",
      "Trial: 50 Accuracy 91.1\n",
      "Trial: 60 Accuracy 88.9\n",
      "Trial: 70 Accuracy 88.9\n",
      "Trial: 80 Accuracy 93.3\n",
      "Trial: 90 Accuracy 88.9\n",
      "Final mean classification accuracy  92.4 with standard deviation 3.71\n"
     ]
    }
   ],
   "source": [
    "testClassifier(DecisionTreeClassifier(), dataset='iris', split=0.7)"
   ]
  },
  {
   "cell_type": "code",
   "execution_count": 133,
   "metadata": {},
   "outputs": [
    {
     "name": "stderr",
     "output_type": "stream",
     "text": [
      "/mnt/c/Users/fland/Desktop/5IF-KTH/DD2421-MACHINE_LEARNING/LAB3-bayes+boosting/labfuns.py:257: UserWarning: *c* argument looks like a single numeric RGB or RGBA sequence, which should be avoided as value-mapping will have precedence in case its length matches with *x* & *y*.  Please use the *color* keyword-argument or provide a 2D array with a single row if you intend to specify the same RGB or RGBA value for all points.\n",
      "  plt.scatter(xTr[trClIdx,0],xTr[trClIdx,1],marker='o',c=color,s=40,alpha=0.5, label=\"Class \"+str(c)+\" Train\")\n",
      "/mnt/c/Users/fland/Desktop/5IF-KTH/DD2421-MACHINE_LEARNING/LAB3-bayes+boosting/labfuns.py:258: UserWarning: *c* argument looks like a single numeric RGB or RGBA sequence, which should be avoided as value-mapping will have precedence in case its length matches with *x* & *y*.  Please use the *color* keyword-argument or provide a 2D array with a single row if you intend to specify the same RGB or RGBA value for all points.\n",
      "  plt.scatter(xTe[teClIdx,0],xTe[teClIdx,1],marker='*',c=color,s=50,alpha=0.8, label=\"Class \"+str(c)+\" Test\")\n"
     ]
    },
    {
     "data": {
      "image/png": "[encoded data removed]",
      "text/plain": [
       "<Figure size 432x288 with 1 Axes>"
      ]
     },
     "metadata": {
      "needs_background": "light"
     },
     "output_type": "display_data"
    }
   ],
   "source": [
    "%matplotlib inline\n",
    "plotBoundary(DecisionTreeClassifier(), dataset='iris',split=0.7)"
   ]
  },
  {
   "cell_type": "code",
   "execution_count": 134,
   "metadata": {},
   "outputs": [
    {
     "name": "stdout",
     "output_type": "stream",
     "text": [
      "Trial: 0 Accuracy 63.6\n",
      "Trial: 10 Accuracy 68.8\n",
      "Trial: 20 Accuracy 63.6\n",
      "Trial: 30 Accuracy 66.9\n",
      "Trial: 40 Accuracy 59.7\n",
      "Trial: 50 Accuracy 63\n",
      "Trial: 60 Accuracy 59.7\n",
      "Trial: 70 Accuracy 68.8\n",
      "Trial: 80 Accuracy 59.7\n",
      "Trial: 90 Accuracy 68.2\n",
      "Final mean classification accuracy  64.1 with standard deviation 4\n"
     ]
    }
   ],
   "source": [
    "testClassifier(DecisionTreeClassifier(), dataset='vowel',split=0.7)"
   ]
  },
  {
   "cell_type": "markdown",
   "metadata": {},
   "source": [
    "## Decision Tree Classifier with boosting"
   ]
  },
  {
   "cell_type": "code",
   "execution_count": 135,
   "metadata": {},
   "outputs": [
    {
     "name": "stdout",
     "output_type": "stream",
     "text": [
      "Trial: 0 Accuracy 95.6\n",
      "Trial: 10 Accuracy 100\n",
      "Trial: 20 Accuracy 95.6\n",
      "Trial: 30 Accuracy 93.3\n",
      "Trial: 40 Accuracy 93.3\n",
      "Trial: 50 Accuracy 95.6\n",
      "Trial: 60 Accuracy 88.9\n",
      "Trial: 70 Accuracy 93.3\n",
      "Trial: 80 Accuracy 93.3\n",
      "Trial: 90 Accuracy 93.3\n",
      "Final mean classification accuracy  94.6 with standard deviation 3.65\n"
     ]
    }
   ],
   "source": [
    "testClassifier(BoostClassifier(DecisionTreeClassifier(), T=10), dataset='iris',split=0.7)"
   ]
  },
  {
   "cell_type": "code",
   "execution_count": 136,
   "metadata": {},
   "outputs": [
    {
     "name": "stderr",
     "output_type": "stream",
     "text": [
      "/mnt/c/Users/fland/Desktop/5IF-KTH/DD2421-MACHINE_LEARNING/LAB3-bayes+boosting/labfuns.py:257: UserWarning: *c* argument looks like a single numeric RGB or RGBA sequence, which should be avoided as value-mapping will have precedence in case its length matches with *x* & *y*.  Please use the *color* keyword-argument or provide a 2D array with a single row if you intend to specify the same RGB or RGBA value for all points.\n",
      "  plt.scatter(xTr[trClIdx,0],xTr[trClIdx,1],marker='o',c=color,s=40,alpha=0.5, label=\"Class \"+str(c)+\" Train\")\n",
      "/mnt/c/Users/fland/Desktop/5IF-KTH/DD2421-MACHINE_LEARNING/LAB3-bayes+boosting/labfuns.py:258: UserWarning: *c* argument looks like a single numeric RGB or RGBA sequence, which should be avoided as value-mapping will have precedence in case its length matches with *x* & *y*.  Please use the *color* keyword-argument or provide a 2D array with a single row if you intend to specify the same RGB or RGBA value for all points.\n",
      "  plt.scatter(xTe[teClIdx,0],xTe[teClIdx,1],marker='*',c=color,s=50,alpha=0.8, label=\"Class \"+str(c)+\" Test\")\n"
     ]
    },
    {
     "data": {
      "image/png": "[encoded data removed]",
      "text/plain": [
       "<Figure size 432x288 with 1 Axes>"
      ]
     },
     "metadata": {
      "needs_background": "light"
     },
     "output_type": "display_data"
    }
   ],
   "source": [
    "%matplotlib inline\n",
    "plotBoundary(BoostClassifier(BayesClassifier()), dataset='iris',split=0.7)"
   ]
  },
  {
   "cell_type": "code",
   "execution_count": 137,
   "metadata": {},
   "outputs": [
    {
     "name": "stdout",
     "output_type": "stream",
     "text": [
      "Trial: 0 Accuracy 76.6\n",
      "Trial: 10 Accuracy 86.4\n",
      "Trial: 20 Accuracy 83.1\n",
      "Trial: 30 Accuracy 80.5\n",
      "Trial: 40 Accuracy 72.7\n",
      "Trial: 50 Accuracy 76\n",
      "Trial: 60 Accuracy 81.8\n",
      "Trial: 70 Accuracy 82.5\n",
      "Trial: 80 Accuracy 79.9\n",
      "Trial: 90 Accuracy 83.1\n",
      "Final mean classification accuracy  80.2 with standard deviation 3.52\n"
     ]
    }
   ],
   "source": [
    "testClassifier(BoostClassifier(BayesClassifier(), T=10), dataset='vowel',split=0.7)"
   ]
  },
  {
   "cell_type": "markdown",
   "metadata": {},
   "source": [
    "# Conclusion"
   ]
  },
  {
   "cell_type": "markdown",
   "metadata": {},
   "source": [
    "### Assignement 7"
   ]
  },
  {
   "cell_type": "markdown",
   "metadata": {},
   "source": [
    "> If you had to pick a classifier, naive Bayes or a decision tree or the boosted versions of these, which one would you pick? Motivate from the following criteria:\n"
   ]
  },
  {
   "cell_type": "markdown",
   "metadata": {},
   "source": [
    "- Outliers\n",
    "\n",
    "I choose **decision tree** because naive bayes is more sensitive to outliers because it assumes independance between features and outliers significantly affect the estimation of probabilities (affect probabilities calculation). On the contrary, decision tree can still be sensitive to outliers but the impact is often less pronounced. Boosted versions of them can reduce impact of outliers by assigning more weight to misclassified instances (more robust). However, outliers would still have a bad effect on classification.\n",
    "\n",
    "- Irrelevant inputs: part of the feature space is irrelevant\n",
    "\n",
    "Probably that **decision tree** classifier is a better choice because they often prune irrevelant branches during training to reduce impact of them. On the contrary, naive bayes assumes independance between features and truly irrelevant features can still impact model predictions. Boosted versions of them can focus on informative features and reduce impact of irrevelant ones, making boosted models more robust to irrevelant inputs\n",
    "\n",
    "- Predictive power\n",
    "\n",
    "aa\n",
    "\n",
    "- Mixed types of data: binary, categorical or continuous features, etc.\n",
    "\n",
    "**Naive bayes** can be a good choice because can handles mixed types well including binary, categorical and continuous features. See One-hot encoding is useful for Machine Learning. Boosted versions of them improve the effectiveness of the model but are not especially related to types of data\n",
    "\n",
    "- Scalability: the dimension of the data, D, is large or the number of instances, N, is large, or both.\n",
    "\n",
    "A **naive Bayes** classifier is higly scalable with higher number of instances and with higher dimensions because the algorithm is simple and makes it computationally efficient. On the contrary, decision tree risk to increased computation with very deep trees. Of course, Boosted version of them are computationally more expensive.\n",
    "\n",
    "Don't forget to use methods such as cross-validation and testing multiple algorithms on the dataset to determine the best-perfoming model. We don't have to be satisfied with a single test of our models to compare them"
   ]
  }
 ],
 "metadata": {
  "authors": [
   {
    "name": "Corentin FLANDRE"
   }
  ],
  "celltoolbar": "Aucun(e)",
  "kernelspec": {
   "display_name": "Python 3 (ipykernel)",
   "language": "python",
   "name": "python3"
  },
  "language_info": {
   "codemirror_mode": {
    "name": "ipython",
    "version": 3
   },
   "file_extension": ".py",
   "mimetype": "text/x-python",
   "name": "python",
   "nbconvert_exporter": "python",
   "pygments_lexer": "ipython3",
   "version": "3.8.10"
  },
  "title": "LAB3-Bayes&Boosting Report"
 },
 "nbformat": 4,
 "nbformat_minor": 2
}
